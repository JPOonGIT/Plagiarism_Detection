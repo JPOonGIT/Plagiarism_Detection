{
 "cells": [
  {
   "cell_type": "code",
   "execution_count": 1,
   "metadata": {},
   "outputs": [],
   "source": [
    "import numpy as np\n",
    "import torch\n",
    "import Doc_import\n",
    "import os\n",
    "import json\n",
    "import Data_Preprocessing"
   ]
  },
  {
   "cell_type": "code",
   "execution_count": 2,
   "metadata": {},
   "outputs": [],
   "source": [
    "from transformers import BertModel\n",
    "\n",
    "import torch.nn as nn\n",
    "import torch.nn.functional as F\n",
    "from torch.autograd import Variable\n",
    "import Data_Preprocessing\n",
    "\n",
    "class Net(nn.Module):\n",
    "\n",
    "    def __init__(self):\n",
    "        super(Net, self).__init__()\n",
    "        kernel = 4\n",
    "        input_ff = int(393216/(kernel * kernel))\n",
    "        zwischenlayer1 = int(1000)\n",
    "        zwischenlayer2 = int(10)\n",
    "        self.bert = BertModel.from_pretrained(\"bert-base-uncased\")\n",
    "        self.pooling = nn.MaxPool2d(kernel)\n",
    "        self.linear11 = nn.Linear(input_ff, zwischenlayer1)\n",
    "        self.linear12 = nn.Linear(zwischenlayer1, zwischenlayer2)\n",
    "        self.linear13 = nn.Linear(zwischenlayer2, 1)\n",
    "\n",
    "    def forward(self, input_data):\n",
    "        bert_output = self.bert(**input_data)\n",
    "        bert_output = self.pooling(bert_output[0])\n",
    "        bert_output = bert_output[0].view(-1, 24576)\n",
    "        x2 = F.relu(self.linear11(bert_output))\n",
    "        x2 = F.relu(self.linear12(x2))\n",
    "        x2 = self.linear13(x2)\n",
    "\n",
    "        return x2\n",
    "\n",
    "    def train_x2(self, features, labels, loss_function, optimizer, epochs):\n",
    "        log_interval = 5\n",
    "        for epoch in range(epochs):\n",
    "            for i, data in enumerate(train_features):\n",
    "                data = Data_Preprocessing.preprocessing(data)\n",
    "                optimizer.zero_grad()\n",
    "                output1 = self.forward(data)\n",
    "\n",
    "                loss_x2 = loss_function(output1, torch.tensor(labels[i]['multi-author']))\n",
    "                print(' ist=', output1, ' soll=', torch.tensor(labels[i]['multi-author']), ' Loss=', loss_x2)\n",
    "                loss_x2.backward(retain_graph=True)\n",
    "                optimizer.step()\n",
    "                '''if index % log_interval == 0:\n",
    "                    print('Train Epoch: {} [{}/{} ({:.0f}%)]\\tLoss: {:.6f}'.format(epochs, index * len(features),\n",
    "                                                                                    len(features),\n",
    "                                                                                    100. * index / len(features),\n",
    "                                                                                    loss_x1.data.item()))'''\n",
    "\n",
    "    def test_model(self, features, labels, loss_function):\n",
    "        log_interval = 5\n",
    "        for index, data in enumerate(features):\n",
    "            output = self(data)\n",
    "            loss = loss_function(output, labels[index]['multi-author'])\n",
    "\n",
    "            if index % log_interval == 0:\n",
    "                print('Train Epoch: {} [{}/{} ({:.0f}%)]\\tLoss: {:.6f}'.format(index, index * len(data),len(data),\n",
    "                                                                               100. * index / len(data),\n",
    "                                                                               loss.data.item()))\n",
    "                        "
   ]
  },
  {
   "cell_type": "code",
   "execution_count": 3,
   "metadata": {},
   "outputs": [
    {
     "ename": "FileNotFoundError",
     "evalue": "[Errno 2] No such file or directory: '.DS_Store'",
     "output_type": "error",
     "traceback": [
      "\u001b[0;31m---------------------------------------------------------------------------\u001b[0m",
      "\u001b[0;31mFileNotFoundError\u001b[0m                         Traceback (most recent call last)",
      "\u001b[1;32m/Users/alexbeetz/Plagiarism_Detection/bert_second_head.ipynb Zelle 3\u001b[0m in \u001b[0;36m<cell line: 1>\u001b[0;34m()\u001b[0m\n\u001b[0;32m----> <a href='vscode-notebook-cell:/Users/alexbeetz/Plagiarism_Detection/bert_second_head.ipynb#ch0000004?line=0'>1</a>\u001b[0m \u001b[39mprint\u001b[39m(Doc_import\u001b[39m.\u001b[39;49mimport_verification(base_path\u001b[39m=\u001b[39;49m\u001b[39mr\u001b[39;49m\u001b[39m\"\u001b[39;49m\u001b[39m/Users/alexbeetz/Desktop/pan20-authorship-verification-training-small\u001b[39;49m\u001b[39m\"\u001b[39;49m))\n",
      "File \u001b[0;32m~/Plagiarism_Detection/Doc_import.py:72\u001b[0m, in \u001b[0;36mimport_verification\u001b[0;34m(base_path)\u001b[0m\n\u001b[1;32m     67\u001b[0m \u001b[39mfor\u001b[39;00m dic \u001b[39min\u001b[39;00m test_train:\n\u001b[1;32m     68\u001b[0m     \u001b[39m#path = base_path + \"/\" + dic\u001b[39;00m\n\u001b[1;32m     69\u001b[0m     \u001b[39m#data_path = os.listdir()\u001b[39;00m\n\u001b[1;32m     71\u001b[0m     \u001b[39mif\u001b[39;00m dic \u001b[39m==\u001b[39m test_train[\u001b[39m0\u001b[39m]:\n\u001b[0;32m---> 72\u001b[0m         f \u001b[39m=\u001b[39m \u001b[39mopen\u001b[39;49m(dic, \u001b[39m'\u001b[39;49m\u001b[39mr\u001b[39;49m\u001b[39m'\u001b[39;49m)\n\u001b[1;32m     73\u001b[0m         data \u001b[39m=\u001b[39m json\u001b[39m.\u001b[39mload(f)\n\u001b[1;32m     74\u001b[0m         \u001b[39mfor\u001b[39;00m item \u001b[39min\u001b[39;00m data:\n",
      "\u001b[0;31mFileNotFoundError\u001b[0m: [Errno 2] No such file or directory: '.DS_Store'"
     ]
    }
   ],
   "source": [
    "print(Doc_import.import_verification(base_path=r\"/Users/alexbeetz/Desktop/pan20-authorship-verification-training-small\"))"
   ]
  },
  {
   "cell_type": "code",
   "execution_count": 10,
   "metadata": {},
   "outputs": [
    {
     "ename": "NotADirectoryError",
     "evalue": "[Errno 20] Not a directory: '/Users/alexbeetz/Desktop/pan20-authorship-verification-training-small/2pan20-authorship-verification-training-small-truth.jsonl'",
     "output_type": "error",
     "traceback": [
      "\u001b[0;31m---------------------------------------------------------------------------\u001b[0m",
      "\u001b[0;31mNotADirectoryError\u001b[0m                        Traceback (most recent call last)",
      "\u001b[1;32m/Users/alexbeetz/Plagiarism_Detection/bert_second_head.ipynb Zelle 3\u001b[0m in \u001b[0;36m<cell line: 1>\u001b[0;34m()\u001b[0m\n\u001b[0;32m----> <a href='vscode-notebook-cell:/Users/alexbeetz/Plagiarism_Detection/bert_second_head.ipynb#ch0000002?line=0'>1</a>\u001b[0m train_features, train_labels, test_features, test_labels \u001b[39m=\u001b[39m Doc_import\u001b[39m.\u001b[39;49mimport_verification(base_path\u001b[39m=\u001b[39;49m\u001b[39m\"\u001b[39;49m\u001b[39m/Users/alexbeetz/Desktop/pan20-authorship-verification-training-small\u001b[39;49m\u001b[39m\"\u001b[39;49m)\n",
      "File \u001b[0;32m~/Plagiarism_Detection/Doc_import.py:69\u001b[0m, in \u001b[0;36mimport_verification\u001b[0;34m(base_path)\u001b[0m\n\u001b[1;32m     67\u001b[0m \u001b[39mfor\u001b[39;00m dic \u001b[39min\u001b[39;00m test_train:\n\u001b[1;32m     68\u001b[0m     path \u001b[39m=\u001b[39m base_path \u001b[39m+\u001b[39m \u001b[39m\"\u001b[39m\u001b[39m/\u001b[39m\u001b[39m\"\u001b[39m \u001b[39m+\u001b[39m dic\n\u001b[0;32m---> 69\u001b[0m     data_path \u001b[39m=\u001b[39m os\u001b[39m.\u001b[39;49mlistdir(path)\n\u001b[1;32m     71\u001b[0m     \u001b[39mif\u001b[39;00m dic \u001b[39m==\u001b[39m test_train[\u001b[39m0\u001b[39m]:\n\u001b[1;32m     72\u001b[0m         \u001b[39mwith\u001b[39;00m \u001b[39mopen\u001b[39m(data_path, \u001b[39m'\u001b[39m\u001b[39mr\u001b[39m\u001b[39m'\u001b[39m, encoding\u001b[39m=\u001b[39m\u001b[39m'\u001b[39m\u001b[39mutf8\u001b[39m\u001b[39m'\u001b[39m) \u001b[39mas\u001b[39;00m f:\n",
      "\u001b[0;31mNotADirectoryError\u001b[0m: [Errno 20] Not a directory: '/Users/alexbeetz/Desktop/pan20-authorship-verification-training-small/2pan20-authorship-verification-training-small-truth.jsonl'"
     ]
    }
   ],
   "source": [
    "train_features, train_labels = Doc_import.import_verification(base_path=\"/Users/alexbeetz/Desktop/pan20-authorship-verification-training-small\")\n"
   ]
  },
  {
   "cell_type": "code",
   "execution_count": null,
   "metadata": {},
   "outputs": [],
   "source": [
    "model = Net()\n",
    "optimizer = torch.optim.SGD(model.parameters(), lr=0.005, momentum=0.9)\n",
    "criterion = nn.L1Loss()\n",
    "model.train()\n",
    "model.train_x2(train_features,train_labels , criterion, optimizer, 1)"
   ]
  }
 ],
 "metadata": {
  "kernelspec": {
   "display_name": "Python 3.8.13 ('DL')",
   "language": "python",
   "name": "python3"
  },
  "language_info": {
   "codemirror_mode": {
    "name": "ipython",
    "version": 3
   },
   "file_extension": ".py",
   "mimetype": "text/x-python",
   "name": "python",
   "nbconvert_exporter": "python",
   "pygments_lexer": "ipython3",
   "version": "3.8.13"
  },
  "orig_nbformat": 4,
  "vscode": {
   "interpreter": {
    "hash": "9ea37bf44d4b176858fce52ed9f8f080b9ac5c60af0816acde5b07bb26db502c"
   }
  }
 },
 "nbformat": 4,
 "nbformat_minor": 2
}
